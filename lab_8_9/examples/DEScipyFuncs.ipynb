{
 "cells": [
  {
   "cell_type": "code",
   "execution_count": 1,
   "id": "19fe2773",
   "metadata": {},
   "outputs": [],
   "source": [
    "import time as t\n",
    "import numpy as np"
   ]
  },
  {
   "cell_type": "code",
   "execution_count": 2,
   "id": "3012680a",
   "metadata": {},
   "outputs": [
    {
     "name": "stdout",
     "output_type": "stream",
     "text": [
      "[1. 1. 1. 1. 1.] 0.0\n",
      "time (in sec) is 11.120067596435547\n"
     ]
    }
   ],
   "source": [
    "from scipy.optimize import rosen, differential_evolution\n",
    "bounds = [(-2,2)]*5\n",
    "t0 = t.time()\n",
    "result = differential_evolution(rosen, bounds)\n",
    "tn = t.time()\n",
    "print(result.x, result.fun)\n",
    "print('time (in sec) is',tn-t0)"
   ]
  },
  {
   "cell_type": "code",
   "execution_count": 3,
   "id": "19e93e55",
   "metadata": {},
   "outputs": [],
   "source": [
    "def func(x):\n",
    "    return np.sum(np.abs(x))"
   ]
  },
  {
   "cell_type": "code",
   "execution_count": 4,
   "id": "8db69c5b",
   "metadata": {},
   "outputs": [
    {
     "name": "stdout",
     "output_type": "stream",
     "text": [
      "[0. 0. 0.] 0.0\n",
      "time (in sec) is 4.085916042327881\n"
     ]
    }
   ],
   "source": [
    "dim = 3\n",
    "bounds = [(-5.12, 5.12)]*dim\n",
    "t0 = t.time()\n",
    "result = differential_evolution(func, bounds, maxiter=300, popsize=50, mutation=(0.5, 1), recombination=0.7)\n",
    "tn = t.time()\n",
    "print(result.x, result.fun)\n",
    "print('time (in sec) is',tn-t0)"
   ]
  },
  {
   "cell_type": "code",
   "execution_count": null,
   "id": "1b059c30",
   "metadata": {},
   "outputs": [],
   "source": []
  }
 ],
 "metadata": {
  "kernelspec": {
   "display_name": "Python 3 (ipykernel)",
   "language": "python",
   "name": "python3"
  },
  "language_info": {
   "codemirror_mode": {
    "name": "ipython",
    "version": 3
   },
   "file_extension": ".py",
   "mimetype": "text/x-python",
   "name": "python",
   "nbconvert_exporter": "python",
   "pygments_lexer": "ipython3",
   "version": "3.10.9"
  }
 },
 "nbformat": 4,
 "nbformat_minor": 5
}
