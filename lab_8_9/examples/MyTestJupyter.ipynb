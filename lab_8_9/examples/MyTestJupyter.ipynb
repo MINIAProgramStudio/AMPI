{
 "cells": [
  {
   "cell_type": "markdown",
   "id": "60869de3",
   "metadata": {},
   "source": [
    "# Лабораторна робота №1\n",
    "## Лабораторна робота №1\n",
    "##### Лабораторна робота №1\n",
    "\n",
    "Моє перше рівняння $ax^{2}+bx+c=0$"
   ]
  },
  {
   "cell_type": "code",
   "execution_count": 4,
   "id": "20de63f2",
   "metadata": {},
   "outputs": [
    {
     "name": "stdout",
     "output_type": "stream",
     "text": [
      "2 3\n"
     ]
    }
   ],
   "source": [
    "x, y = 2, 3; print(x,y)"
   ]
  },
  {
   "cell_type": "code",
   "execution_count": 5,
   "id": "886b690c",
   "metadata": {},
   "outputs": [
    {
     "name": "stdout",
     "output_type": "stream",
     "text": [
      "Введіть число: 5\n",
      "Введіть число: 6\n",
      "11.0\n"
     ]
    }
   ],
   "source": [
    "x = float(input('Введіть число: '))\n",
    "y = input('Введіть число: ')\n",
    "y = float(y)\n",
    "z = x+y\n",
    "print(round(z,5))"
   ]
  },
  {
   "cell_type": "code",
   "execution_count": null,
   "id": "a30e946f",
   "metadata": {},
   "outputs": [],
   "source": []
  }
 ],
 "metadata": {
  "kernelspec": {
   "display_name": "Python 3 (ipykernel)",
   "language": "python",
   "name": "python3"
  },
  "language_info": {
   "codemirror_mode": {
    "name": "ipython",
    "version": 3
   },
   "file_extension": ".py",
   "mimetype": "text/x-python",
   "name": "python",
   "nbconvert_exporter": "python",
   "pygments_lexer": "ipython3",
   "version": "3.10.9"
  }
 },
 "nbformat": 4,
 "nbformat_minor": 5
}
